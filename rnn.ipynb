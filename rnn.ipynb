{
  "nbformat": 4,
  "nbformat_minor": 0,
  "metadata": {
    "colab": {
      "provenance": [],
      "authorship_tag": "ABX9TyM+ZdcFLo1+nHoIGmGLTfKA",
      "include_colab_link": true
    },
    "kernelspec": {
      "name": "python3",
      "display_name": "Python 3"
    },
    "language_info": {
      "name": "python"
    }
  },
  "cells": [
    {
      "cell_type": "markdown",
      "metadata": {
        "id": "view-in-github",
        "colab_type": "text"
      },
      "source": [
        "<a href=\"https://colab.research.google.com/github/sakshik2004/FMML/blob/main/rnn.ipynb\" target=\"_parent\"><img src=\"https://colab.research.google.com/assets/colab-badge.svg\" alt=\"Open In Colab\"/></a>"
      ]
    },
    {
      "cell_type": "code",
      "source": [
        "import pandas as pd\n",
        "import torch\n",
        "from sklearn.preprocessing import StandardScaler\n",
        "from sklearn.model_selection import train_test_split\n",
        "import numpy as np\n",
        "\n"
      ],
      "metadata": {
        "id": "UnL2OCmkgejx"
      },
      "execution_count": 1,
      "outputs": []
    },
    {
      "cell_type": "code",
      "execution_count": 2,
      "metadata": {
        "id": "yIMFy1W-gYpn"
      },
      "outputs": [],
      "source": [
        "# Load the dataset\n",
        "file_path = '/content/seattle-weather (1).csv'\n",
        "data = pd.read_csv(file_path)\n",
        "\n"
      ]
    },
    {
      "cell_type": "code",
      "source": [
        "# Display the first few rows of the dataset\n",
        "print(data.head())\n",
        "\n"
      ],
      "metadata": {
        "colab": {
          "base_uri": "https://localhost:8080/"
        },
        "id": "59_Uk4g9g38i",
        "outputId": "600adb0a-b1b5-4dc3-fc6b-f3f7ea531c78"
      },
      "execution_count": 3,
      "outputs": [
        {
          "output_type": "stream",
          "name": "stdout",
          "text": [
            "         date  precipitation  temp_max  temp_min  wind  weather\n",
            "0  2012-01-01            0.0      12.8       5.0   4.7  drizzle\n",
            "1  2012-01-02           10.9      10.6       2.8   4.5     rain\n",
            "2  2012-01-03            0.8      11.7       7.2   2.3     rain\n",
            "3  2012-01-04           20.3      12.2       5.6   4.7     rain\n",
            "4  2012-01-05            1.3       8.9       2.8   6.1     rain\n"
          ]
        }
      ]
    },
    {
      "cell_type": "code",
      "source": [
        "# Assuming the dataset has columns ['date', 'precipitation', 'temp_max', 'temp_min', 'wind', 'weather']\n",
        "# Convert date to datetime\n",
        "data['date'] = pd.to_datetime(data['date'])\n",
        "\n"
      ],
      "metadata": {
        "id": "AX9kcMrtg8Ah"
      },
      "execution_count": 4,
      "outputs": []
    },
    {
      "cell_type": "code",
      "source": [
        "# Encode the weather column (assuming it's a categorical variable)\n",
        "data['weather'] = data['weather'].astype('category').cat.codes\n",
        "\n"
      ],
      "metadata": {
        "id": "ZzLfyAAWhAjp"
      },
      "execution_count": 5,
      "outputs": []
    },
    {
      "cell_type": "code",
      "source": [
        "# Feature selection\n",
        "features = data[['precipitation', 'temp_max', 'temp_min', 'wind']]\n",
        "labels = data['weather']\n",
        "\n"
      ],
      "metadata": {
        "id": "gHDmua1zhEbJ"
      },
      "execution_count": 6,
      "outputs": []
    },
    {
      "cell_type": "code",
      "source": [
        "# Normalize features\n",
        "scaler = StandardScaler()\n",
        "features = scaler.fit_transform(features)\n",
        "\n"
      ],
      "metadata": {
        "id": "sGHM0ZjshIvU"
      },
      "execution_count": 7,
      "outputs": []
    },
    {
      "cell_type": "code",
      "source": [
        "# Split the data into train and test sets\n",
        "X_train, X_test, y_train, y_test = train_test_split(features, labels, test_size=0.2, random_state=42)"
      ],
      "metadata": {
        "id": "_NUAx5DehLbr"
      },
      "execution_count": 8,
      "outputs": []
    },
    {
      "cell_type": "code",
      "source": [
        "# Convert to PyTorch tensors\n",
        "X_train = torch.tensor(X_train, dtype=torch.float32)\n",
        "X_test = torch.tensor(X_test, dtype=torch.float32)\n",
        "y_train = torch.tensor(y_train.values, dtype=torch.long)\n",
        "y_test = torch.tensor(y_test.values, dtype=torch.long)\n",
        "\n",
        "\n"
      ],
      "metadata": {
        "id": "VFtjDol7hQUO"
      },
      "execution_count": 9,
      "outputs": []
    },
    {
      "cell_type": "code",
      "source": [
        "import torch.nn as nn\n",
        "import torch.optim as optim\n",
        "\n"
      ],
      "metadata": {
        "id": "-AX-Bw55hSzF"
      },
      "execution_count": 10,
      "outputs": []
    },
    {
      "cell_type": "code",
      "source": [
        "class WeatherRNN(nn.Module):\n",
        "    def __init__(self, input_size, hidden_size, output_size, num_layers):\n",
        "        super(WeatherRNN, self).__init__()\n",
        "        self.hidden_size = hidden_size\n",
        "        self.num_layers = num_layers\n",
        "        self.rnn = nn.RNN(input_size, hidden_size, num_layers, batch_first=True)\n",
        "        self.fc = nn.Linear(hidden_size, output_size)\n",
        "\n",
        "    def forward(self, x):\n",
        "        h0 = torch.zeros(self.num_layers, x.size(0), self.hidden_size).to(x.device)\n",
        "        out, _ = self.rnn(x, h0)\n",
        "        out = out[:, -1, :]\n",
        "        out = self.fc(out)\n",
        "        return out\n",
        "\n",
        "input_size = X_train.shape[1]\n",
        "hidden_size = 50\n",
        "output_size = len(data['weather'].unique())\n",
        "num_layers = 2\n",
        "\n",
        "model = WeatherRNN(input_size, hidden_size, output_size, num_layers)\n",
        "\n"
      ],
      "metadata": {
        "id": "C-EjKqO_hVkE"
      },
      "execution_count": 11,
      "outputs": []
    },
    {
      "cell_type": "code",
      "source": [
        "# Loss and optimizer\n",
        "criterion = nn.CrossEntropyLoss()\n",
        "optimizer = optim.Adam(model.parameters(), lr=0.001)\n",
        "\n"
      ],
      "metadata": {
        "id": "P5niFBzdhiC9"
      },
      "execution_count": 12,
      "outputs": []
    },
    {
      "cell_type": "code",
      "source": [
        "# Training loop\n",
        "num_epochs = 100\n",
        "batch_size = 64\n",
        "\n",
        "for epoch in range(num_epochs):\n",
        "    model.train()\n",
        "    permutation = torch.randperm(X_train.size(0))\n",
        "\n",
        "    for i in range(0, X_train.size(0), batch_size):\n",
        "        indices = permutation[i:i+batch_size]\n",
        "        batch_x, batch_y = X_train[indices], y_train[indices]\n",
        "\n",
        "        # Forward pass\n",
        "        outputs = model(batch_x.unsqueeze(1))\n",
        "        loss = criterion(outputs, batch_y)\n",
        "\n",
        "        # Backward pass and optimization\n",
        "        optimizer.zero_grad()\n",
        "        loss.backward()\n",
        "        optimizer.step()\n",
        "\n",
        "    if (epoch+1) % 10 == 0:\n",
        "        print(f'Epoch [{epoch+1}/{num_epochs}], Loss: {loss.item():.4f}')\n",
        "\n",
        "\n",
        "\n",
        "model.eval()\n",
        "with torch.no_grad():\n",
        "    test_outputs = model(X_test.unsqueeze(1))\n",
        "    _, predicted = torch.max(test_outputs, 1)\n",
        "    accuracy = (predicted == y_test).sum().item() / y_test.size(0)\n",
        "    print(f'Accuracy: {accuracy*100:.2f}%')\n"
      ],
      "metadata": {
        "colab": {
          "base_uri": "https://localhost:8080/"
        },
        "id": "w1wgFcB5hsJ2",
        "outputId": "17049d08-6316-4872-da50-f4ee98b56088"
      },
      "execution_count": 13,
      "outputs": [
        {
          "output_type": "stream",
          "name": "stdout",
          "text": [
            "Epoch [10/100], Loss: 0.6821\n",
            "Epoch [20/100], Loss: 0.4544\n",
            "Epoch [30/100], Loss: 0.5283\n",
            "Epoch [40/100], Loss: 0.7721\n",
            "Epoch [50/100], Loss: 0.3036\n",
            "Epoch [60/100], Loss: 0.9246\n",
            "Epoch [70/100], Loss: 0.7042\n",
            "Epoch [80/100], Loss: 0.3013\n",
            "Epoch [90/100], Loss: 0.2343\n",
            "Epoch [100/100], Loss: 0.3514\n",
            "Accuracy: 82.59%\n"
          ]
        }
      ]
    }
  ]
}